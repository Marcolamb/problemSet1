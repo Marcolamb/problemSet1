{
 "cells": [
  {
   "attachments": {},
   "cell_type": "markdown",
   "metadata": {},
   "source": [
    "**Marco Cordero - Student Number - 200549682**"
   ]
  },
  {
   "attachments": {},
   "cell_type": "markdown",
   "metadata": {},
   "source": [
    "==============================================================================================================="
   ]
  },
  {
   "attachments": {},
   "cell_type": "markdown",
   "metadata": {},
   "source": [
    "**1. What data type is each of the following (evaluate where necessary)?**"
   ]
  },
  {
   "cell_type": "code",
   "execution_count": 6,
   "metadata": {},
   "outputs": [
    {
     "data": {
      "text/plain": [
       "set"
      ]
     },
     "execution_count": 6,
     "metadata": {},
     "output_type": "execute_result"
    }
   ],
   "source": [
    "type({5, 2, 1})"
   ]
  },
  {
   "attachments": {},
   "cell_type": "markdown",
   "metadata": {},
   "source": [
    "5 = Integer\n",
    "5.0 = Float\n",
    "5 > 1 = Boolean (in python boolean are integers)\n",
    "'5' = String\n",
    "5 * 2 = Integer\n",
    "'5' * 2 = String\n",
    "'5' + '2' = String\n",
    "5 / 2 = Float\n",
    "5 % 2 = Integer\n",
    "{5, 2, 1} = set\n",
    "5 == 3 = Boolean (in python boolean are integers)\n",
    "Pi (the number) = Float (constant)"
   ]
  },
  {
   "attachments": {},
   "cell_type": "markdown",
   "metadata": {},
   "source": [
    "*********************************************************************************************************************************"
   ]
  },
  {
   "attachments": {},
   "cell_type": "markdown",
   "metadata": {},
   "source": [
    "**2. Write (and evaluate) python expressions that answer these questions:**\n",
    "\n",
    "a. How many letters are there in 'Supercalifragilisticexpialidocious'? \n",
    "\n",
    "b. Does 'Supercalifragilisticexpialidocious' contain 'ice' as a substring?\n",
    "\n",
    "c. Which of the following words is the longest: Supercalifragilisticexpialidocious, Honorificabilitudinitatibus,  or Bababadalgharaghtakamminarronnkonn?  \n",
    "\n",
    "d. Which composer comes first in the dictionary: 'Berlioz', 'Borodin', 'Brian', 'Bartok', 'Bellini', 'Buxtehude', 'Bernstein'. Which one comes last?"
   ]
  },
  {
   "attachments": {},
   "cell_type": "markdown",
   "metadata": {},
   "source": [
    "a"
   ]
  },
  {
   "cell_type": "code",
   "execution_count": 7,
   "metadata": {},
   "outputs": [
    {
     "data": {
      "text/plain": [
       "34"
      ]
     },
     "execution_count": 7,
     "metadata": {},
     "output_type": "execute_result"
    }
   ],
   "source": [
    "# a\n",
    "word = 'Supercalifragilisticexpialidocious'\n",
    "len(word)"
   ]
  },
  {
   "attachments": {},
   "cell_type": "markdown",
   "metadata": {},
   "source": [
    "b"
   ]
  },
  {
   "cell_type": "code",
   "execution_count": 8,
   "metadata": {},
   "outputs": [
    {
     "name": "stdout",
     "output_type": "stream",
     "text": [
      "YES\n"
     ]
    }
   ],
   "source": [
    "# b\n",
    "substring = 'ice'\n",
    "\n",
    "if substring in word:\n",
    "    print (\"YES\")"
   ]
  },
  {
   "attachments": {},
   "cell_type": "markdown",
   "metadata": {},
   "source": [
    "c"
   ]
  },
  {
   "cell_type": "code",
   "execution_count": 21,
   "metadata": {},
   "outputs": [
    {
     "name": "stdout",
     "output_type": "stream",
     "text": [
      "The longest words are: Supercalifragilisticexpialidocious and Bababadalgharaghtakamminarronnkonn\n"
     ]
    }
   ],
   "source": [
    "# c\n",
    "word2 = 'Honorificabilitudinitatibus'\n",
    "word3 = 'Bababadalgharaghtakamminarronnkonn'\n",
    "\n",
    "\n",
    "longest_word = ''\n",
    "\n",
    "if len(word) >= len(word2) and len(word) >= len(word3):\n",
    "    longest_word = word\n",
    "elif len(word2) >= len(word) and len(word2) >= len(word3):\n",
    "    longest_word = word2\n",
    "else:\n",
    "    longest_word = word3\n",
    "\n",
    "if len(word) == len(word3) and word != word3:\n",
    "    print(\"The longest words are:\", word, \"and\", word3)\n",
    "\n",
    "elif len(word) == len(word2) and word != word2:\n",
    "    print(\"The longest words are:\", word, \"and\", word2)\n",
    "\n",
    "elif len(word2) == len(word3) and word2 != word3:\n",
    "    print(\"The longest words are:\", word2, \"and\", word3)\n"
   ]
  },
  {
   "attachments": {},
   "cell_type": "markdown",
   "metadata": {},
   "source": [
    " d\n",
    " \n",
    " The dictionaries have no order so they can come in multiple orders."
   ]
  },
  {
   "attachments": {},
   "cell_type": "markdown",
   "metadata": {},
   "source": [
    "*********************************************************************************************************************************"
   ]
  },
  {
   "attachments": {},
   "cell_type": "markdown",
   "metadata": {},
   "source": [
    "**3. Implement function triangleArea(a,b,c) that takes as input the lengths of the 3  sides of a triangle and returns the area of the triangle.**\n",
    "\n",
    "By Heron's formula, the area of a triangle with side lengths a, b, and c is    sqrt(s(s- a)(s- b)(s- c)), where    s= (a+ b+ c)/2.  \n",
    " \n",
    ">>> triangleArea(2,2,2) \n",
    "1.7320508075688772 "
   ]
  },
  {
   "cell_type": "code",
   "execution_count": 36,
   "metadata": {},
   "outputs": [
    {
     "data": {
      "text/plain": [
       "1.7320508075688772"
      ]
     },
     "execution_count": 36,
     "metadata": {},
     "output_type": "execute_result"
    }
   ],
   "source": [
    "# first we import the math library so we can used the square root method.\n",
    "import math as m\n",
    "\n",
    "def triangleArea(a,b,c):\n",
    "    s = (a+ b+ c)/2\n",
    "    s1 = s-a\n",
    "    s2 = s-b\n",
    "    s3 = s-c\n",
    "    area = m.sqrt(s*s1*s2*s3)\n",
    "    return area\n",
    "    \n",
    "\n",
    "triangleArea(2,2,2)"
   ]
  },
  {
   "attachments": {},
   "cell_type": "markdown",
   "metadata": {},
   "source": [
    "*********************************************************************************************************************************"
   ]
  },
  {
   "attachments": {},
   "cell_type": "markdown",
   "metadata": {},
   "source": [
    "**4. Write a program in python to separate odd and even integers in separate arrays.**\n",
    "\n"
   ]
  },
  {
   "cell_type": "code",
   "execution_count": 47,
   "metadata": {},
   "outputs": [
    {
     "name": "stdout",
     "output_type": "stream",
     "text": [
      "Even numbers are [42, 56, 32]\n",
      "Uneven numbers are [25, 47]\n"
     ]
    }
   ],
   "source": [
    "element_number = int(input('What is the number of elements of the array?'))\n",
    "\n",
    "list = []\n",
    "even=[]\n",
    "uneven=[]\n",
    "\n",
    "for i in range (element_number):\n",
    "\n",
    "    list.append(int(input('Please insert element N ' + str(i+1))))\n",
    "\n",
    "for i in list:\n",
    "    if i%2==0:\n",
    "        even.append(i)\n",
    "    else:\n",
    "        uneven.append(i)\n",
    "\n",
    "print (f\"Even elements are {even}\")\n",
    "print (f\"Uneven elements are {uneven}\")"
   ]
  },
  {
   "attachments": {},
   "cell_type": "markdown",
   "metadata": {},
   "source": [
    "*********************************************************************************************************************************"
   ]
  },
  {
   "attachments": {},
   "cell_type": "markdown",
   "metadata": {},
   "source": [
    "**5.** \n",
    "\n",
    "**a. Write a function inside(x,y,x1,y1,x2,y2) that returns True or False depending on whether the point (x,y) lies in the rectangle with lower left corner (x1,y1) and upper right corner (x2,y2).**\n",
    "\n",
    "**b. Use function inside() from part a. to write an expression that tests whether the point (1,1) lies in both of the following rectangles: one with lower left corner (0.3, 0.5) and upper right corner (1.1, 0.7) and the other with lower left corner (0.5, 0.2) and upper right corner (1.1, 2).**"
   ]
  },
  {
   "cell_type": "code",
   "execution_count": 48,
   "metadata": {},
   "outputs": [],
   "source": [
    "#a\n",
    "def inside(x, y, x1, y1, x2, y2):\n",
    "    if x >= x1 and x <= x2 and y >= y1 and y <= y2:\n",
    "        return True\n",
    "    else:\n",
    "        return False"
   ]
  },
  {
   "cell_type": "code",
   "execution_count": 51,
   "metadata": {},
   "outputs": [
    {
     "data": {
      "text/plain": [
       "True"
      ]
     },
     "execution_count": 51,
     "metadata": {},
     "output_type": "execute_result"
    }
   ],
   "source": [
    "inside(1,1,0,0,2,3)"
   ]
  },
  {
   "cell_type": "code",
   "execution_count": 52,
   "metadata": {},
   "outputs": [
    {
     "data": {
      "text/plain": [
       "False"
      ]
     },
     "execution_count": 52,
     "metadata": {},
     "output_type": "execute_result"
    }
   ],
   "source": [
    "inside(-1,-1,0,0,2,3)"
   ]
  },
  {
   "cell_type": "code",
   "execution_count": 55,
   "metadata": {},
   "outputs": [
    {
     "name": "stdout",
     "output_type": "stream",
     "text": [
      "The point lies inside the second rectangle\n"
     ]
    }
   ],
   "source": [
    "#b\n",
    "x = 1\n",
    "y = 1\n",
    "rectangle1 = (0.3, 0.5, 1.1, 0.7)\n",
    "rectangle2 = (0.5, 0.2, 1.1, 2)\n",
    "\n",
    "lies_inside1 = inside(x,y,rectangle1[0],rectangle1[1],rectangle1[2],rectangle1[3])\n",
    "lies_inside2 = inside(x,y,rectangle2[0],rectangle2[1],rectangle2[2],rectangle2[3])\n",
    "\n",
    "if lies_inside1: \n",
    "    print(\"The point lies inside the first rectangle\")\n",
    "\n",
    "elif lies_inside2: \n",
    "    print(\"The point lies inside the second rectangle\")\n",
    "\n",
    "else:\n",
    "    print(\"The point does not lie inside any rectangle\")"
   ]
  },
  {
   "attachments": {},
   "cell_type": "markdown",
   "metadata": {},
   "source": [
    "*********************************************************************************************************************************"
   ]
  },
  {
   "attachments": {},
   "cell_type": "markdown",
   "metadata": {},
   "source": [
    "**6. You can turn a word into pig-Latin using the following two rules (simplified):**\n",
    "\n",
    "**- If the word starts with a consonant, move that letter to the end and append 'ay'. For example, 'happy' becomes 'appyhay' and 'pencil' becomes 'encilpay'.** \n",
    "\n",
    "**- If the word starts with a vowel, simply append 'way' to the end of the word. For example, 'enter' becomes 'enterway' and 'other' becomes 'otherway' . For our purposes, there are 5 vowels: a, e, i, o, u (so we count y as a consonant).** \n",
    "\n",
    "\n",
    "**Write a function pig() that takes a word (i.e., a string) as input and returns its pig-Latin form. Your function should still work if the input word contains upper case characters. Your output should always be lower case however.**"
   ]
  },
  {
   "cell_type": "code",
   "execution_count": 67,
   "metadata": {},
   "outputs": [],
   "source": [
    "def pig(word):\n",
    "    # Making sure we enter a string value\n",
    "    if type(word) == str:\n",
    "    \n",
    "        vowels = ['a', 'e', 'i', 'o', 'u']\n",
    "        word = word.lower()\n",
    "        \n",
    "        if word[0] not in vowels:\n",
    "            return word[1:] + word[0] + 'ay'\n",
    "        else:\n",
    "            return word + 'way'\n",
    "    \n",
    "    else:\n",
    "        print ('You did not introduce a string value')"
   ]
  },
  {
   "cell_type": "code",
   "execution_count": 69,
   "metadata": {},
   "outputs": [
    {
     "data": {
      "text/plain": [
       "'appyhay'"
      ]
     },
     "execution_count": 69,
     "metadata": {},
     "output_type": "execute_result"
    }
   ],
   "source": [
    "pig('happy')"
   ]
  },
  {
   "cell_type": "code",
   "execution_count": 70,
   "metadata": {},
   "outputs": [
    {
     "data": {
      "text/plain": [
       "'enterway'"
      ]
     },
     "execution_count": 70,
     "metadata": {},
     "output_type": "execute_result"
    }
   ],
   "source": [
    "pig('enter')"
   ]
  },
  {
   "attachments": {},
   "cell_type": "markdown",
   "metadata": {},
   "source": [
    "*********************************************************************************************************************************"
   ]
  },
  {
   "attachments": {},
   "cell_type": "markdown",
   "metadata": {},
   "source": [
    "**7. File bloodtype1.txt records blood-types of patients (A, B, AB, O or OO) at a clinic. Write a function bldcount() that reads the file with name name and reports (i.e., prints) how many patients there are in each bloodtype.**"
   ]
  },
  {
   "cell_type": "code",
   "execution_count": 72,
   "metadata": {},
   "outputs": [
    {
     "name": "stdout",
     "output_type": "stream",
     "text": [
      "The number of bloodtype A is 5\n"
     ]
    }
   ],
   "source": [
    "lista = [1,2,3,4,5]\n",
    "print (f\"The number of bloodtype A is {len(lista)}\")"
   ]
  },
  {
   "cell_type": "code",
   "execution_count": 85,
   "metadata": {},
   "outputs": [],
   "source": [
    "def bldcount(x):\n",
    "    file = open(\"bloodtype1.txt\", \"r\")\n",
    "    text = file.read()\n",
    "\n",
    "    # We hacve to split the text other wise it will duplicate the count. i.e. duplicates the count for A in (A and AB)\n",
    "    types = text.split()\n",
    "\n",
    "\n",
    "    A = types.count(\"A\")\n",
    "    B = types.count(\"B\")\n",
    "    AB = types.count(\"AB\")\n",
    "    O = types.count(\"O\")\n",
    "    OO = types.count(\"OO\")\n",
    "\n",
    "    print (f\"There are {A} with bloodtype A\")\n",
    "    print (f\"There are {B} with bloodtype B\")\n",
    "    print (f\"There are {AB} with bloodtype AB\")\n",
    "    print (f\"There are {O} with bloodtype O\")\n",
    "    print (f\"There are {OO} with bloodtype OO\")"
   ]
  },
  {
   "cell_type": "code",
   "execution_count": 86,
   "metadata": {},
   "outputs": [
    {
     "name": "stdout",
     "output_type": "stream",
     "text": [
      "There are 15 with bloodtype A\n",
      "There are 1 with bloodtype B\n",
      "There are 13 with bloodtype AB\n",
      "There are 15 with bloodtype O\n",
      "There are 0 with bloodtype OO\n"
     ]
    }
   ],
   "source": [
    "name = 'bloodtype1.txt'\n",
    "bldcount(name)"
   ]
  },
  {
   "attachments": {},
   "cell_type": "markdown",
   "metadata": {},
   "source": [
    "*********************************************************************************************************************************"
   ]
  },
  {
   "attachments": {},
   "cell_type": "markdown",
   "metadata": {},
   "source": [
    "**8. Write a function curconv() that takes as input:** \n",
    " \n",
    "    1. a currency represented using a string (e.g., 'JPY' for the Japanese Yen or 'EUR' for the Euro) \n",
    "    2. an amount\n",
    " \n",
    "**and then converts and returns the amount in US dollars.**"
   ]
  },
  {
   "cell_type": "code",
   "execution_count": 121,
   "metadata": {},
   "outputs": [],
   "source": [
    "def curconv(currency, amount):\n",
    "    file = open(\"currencies.txt\", \"r\")\n",
    "    line = file.readline()\n",
    "    currencies = {}\n",
    "\n",
    "\n",
    "    while line:\n",
    "            separated = line.split()\n",
    "            currencies[separated[0]] = separated[1]\n",
    "            line = file.readline()\n",
    "\n",
    "    if currency not in currencies:\n",
    "          print(\"We don't convert the currency you inserted\")\n",
    "\n",
    "    else:\n",
    "        if isinstance(amount, (int, float)):\n",
    "            result = float(currencies[currency]) * amount\n",
    "            return result\n",
    "\n",
    "        else:\n",
    "            print('The figure you want to convert is not a number')"
   ]
  },
  {
   "cell_type": "code",
   "execution_count": 122,
   "metadata": {},
   "outputs": [
    {
     "data": {
      "text/plain": [
       "122.96544"
      ]
     },
     "execution_count": 122,
     "metadata": {},
     "output_type": "execute_result"
    }
   ],
   "source": [
    "curconv('EUR', 100)"
   ]
  },
  {
   "attachments": {},
   "cell_type": "markdown",
   "metadata": {},
   "source": [
    "*********************************************************************************************************************************"
   ]
  },
  {
   "attachments": {},
   "cell_type": "markdown",
   "metadata": {},
   "source": [
    "**9. Each of the following will cause an exception (an error). Identify what type of exception each will cause.**"
   ]
  },
  {
   "cell_type": "code",
   "execution_count": 123,
   "metadata": {},
   "outputs": [
    {
     "ename": "TypeError",
     "evalue": "unsupported operand type(s) for +: 'int' and 'str'",
     "output_type": "error",
     "traceback": [
      "\u001b[1;31m---------------------------------------------------------------------------\u001b[0m",
      "\u001b[1;31mTypeError\u001b[0m                                 Traceback (most recent call last)",
      "Cell \u001b[1;32mIn[123], line 2\u001b[0m\n\u001b[0;32m      1\u001b[0m \u001b[39m# Trying to add incompatible variables, as in adding 6 + ‘a’\u001b[39;00m\n\u001b[1;32m----> 2\u001b[0m \u001b[39m6\u001b[39;49m \u001b[39m+\u001b[39;49m \u001b[39m\"\u001b[39;49m\u001b[39ma\u001b[39;49m\u001b[39m\"\u001b[39;49m\n",
      "\u001b[1;31mTypeError\u001b[0m: unsupported operand type(s) for +: 'int' and 'str'"
     ]
    }
   ],
   "source": [
    "# Trying to add incompatible variables, as in adding 6 + ‘a’\n",
    "6 + \"a\""
   ]
  },
  {
   "cell_type": "code",
   "execution_count": 126,
   "metadata": {},
   "outputs": [
    {
     "ename": "IndexError",
     "evalue": "list index out of range",
     "output_type": "error",
     "traceback": [
      "\u001b[1;31m---------------------------------------------------------------------------\u001b[0m",
      "\u001b[1;31mIndexError\u001b[0m                                Traceback (most recent call last)",
      "Cell \u001b[1;32mIn[126], line 3\u001b[0m\n\u001b[0;32m      1\u001b[0m \u001b[39m# Referring to the 12th item of a list that has only 10 items\u001b[39;00m\n\u001b[0;32m      2\u001b[0m \u001b[39mlist\u001b[39m \u001b[39m=\u001b[39m [\u001b[39m1\u001b[39m,\u001b[39m2\u001b[39m,\u001b[39m3\u001b[39m,\u001b[39m4\u001b[39m,\u001b[39m5\u001b[39m,\u001b[39m6\u001b[39m,\u001b[39m7\u001b[39m,\u001b[39m8\u001b[39m,\u001b[39m9\u001b[39m,\u001b[39m10\u001b[39m]\n\u001b[1;32m----> 3\u001b[0m \u001b[39mlist\u001b[39;49m[\u001b[39m11\u001b[39;49m]\n",
      "\u001b[1;31mIndexError\u001b[0m: list index out of range"
     ]
    }
   ],
   "source": [
    "# Referring to the 12th item of a list that has only 10 items\n",
    "list = [1,2,3,4,5,6,7,8,9,10]\n",
    "list[11]"
   ]
  },
  {
   "cell_type": "code",
   "execution_count": 127,
   "metadata": {},
   "outputs": [
    {
     "ename": "ValueError",
     "evalue": "math domain error",
     "output_type": "error",
     "traceback": [
      "\u001b[1;31m---------------------------------------------------------------------------\u001b[0m",
      "\u001b[1;31mValueError\u001b[0m                                Traceback (most recent call last)",
      "Cell \u001b[1;32mIn[127], line 2\u001b[0m\n\u001b[0;32m      1\u001b[0m \u001b[39m# Using a value that is out of range for a function’s input, such as calling math.sqrt(-1.0)\u001b[39;00m\n\u001b[1;32m----> 2\u001b[0m m\u001b[39m.\u001b[39;49msqrt(\u001b[39m-\u001b[39;49m\u001b[39m1.0\u001b[39;49m)\n",
      "\u001b[1;31mValueError\u001b[0m: math domain error"
     ]
    }
   ],
   "source": [
    "# Using a value that is out of range for a function’s input, such as calling math.sqrt(-1.0)\n",
    "m.sqrt(-1.0)"
   ]
  },
  {
   "cell_type": "code",
   "execution_count": 128,
   "metadata": {},
   "outputs": [
    {
     "ename": "NameError",
     "evalue": "name 'undefined' is not defined",
     "output_type": "error",
     "traceback": [
      "\u001b[1;31m---------------------------------------------------------------------------\u001b[0m",
      "\u001b[1;31mNameError\u001b[0m                                 Traceback (most recent call last)",
      "Cell \u001b[1;32mIn[128], line 2\u001b[0m\n\u001b[0;32m      1\u001b[0m \u001b[39m# Using an undeclared variable, such as print(x) when x has not been defined\u001b[39;00m\n\u001b[1;32m----> 2\u001b[0m \u001b[39mprint\u001b[39m(undefined)\n",
      "\u001b[1;31mNameError\u001b[0m: name 'undefined' is not defined"
     ]
    }
   ],
   "source": [
    "# Using an undeclared variable, such as print(x) when x has not been defined\n",
    "print(undefined)"
   ]
  },
  {
   "cell_type": "code",
   "execution_count": 129,
   "metadata": {},
   "outputs": [
    {
     "ename": "FileNotFoundError",
     "evalue": "[Errno 2] No such file or directory: 'currenxies.txt'",
     "output_type": "error",
     "traceback": [
      "\u001b[1;31m---------------------------------------------------------------------------\u001b[0m",
      "\u001b[1;31mFileNotFoundError\u001b[0m                         Traceback (most recent call last)",
      "Cell \u001b[1;32mIn[129], line 2\u001b[0m\n\u001b[0;32m      1\u001b[0m \u001b[39m#Trying to open a file that does not exist, such as mistyping the file name or looking in the wrong directory\u001b[39;00m\n\u001b[1;32m----> 2\u001b[0m file \u001b[39m=\u001b[39m \u001b[39mopen\u001b[39;49m(\u001b[39m\"\u001b[39;49m\u001b[39mcurrenxies.txt\u001b[39;49m\u001b[39m\"\u001b[39;49m, \u001b[39m\"\u001b[39;49m\u001b[39mr\u001b[39;49m\u001b[39m\"\u001b[39;49m)\n",
      "File \u001b[1;32mc:\\Users\\marco\\anaconda3\\lib\\site-packages\\IPython\\core\\interactiveshell.py:282\u001b[0m, in \u001b[0;36m_modified_open\u001b[1;34m(file, *args, **kwargs)\u001b[0m\n\u001b[0;32m    275\u001b[0m \u001b[39mif\u001b[39;00m file \u001b[39min\u001b[39;00m {\u001b[39m0\u001b[39m, \u001b[39m1\u001b[39m, \u001b[39m2\u001b[39m}:\n\u001b[0;32m    276\u001b[0m     \u001b[39mraise\u001b[39;00m \u001b[39mValueError\u001b[39;00m(\n\u001b[0;32m    277\u001b[0m         \u001b[39mf\u001b[39m\u001b[39m\"\u001b[39m\u001b[39mIPython won\u001b[39m\u001b[39m'\u001b[39m\u001b[39mt let you open fd=\u001b[39m\u001b[39m{\u001b[39;00mfile\u001b[39m}\u001b[39;00m\u001b[39m by default \u001b[39m\u001b[39m\"\u001b[39m\n\u001b[0;32m    278\u001b[0m         \u001b[39m\"\u001b[39m\u001b[39mas it is likely to crash IPython. If you know what you are doing, \u001b[39m\u001b[39m\"\u001b[39m\n\u001b[0;32m    279\u001b[0m         \u001b[39m\"\u001b[39m\u001b[39myou can use builtins\u001b[39m\u001b[39m'\u001b[39m\u001b[39m open.\u001b[39m\u001b[39m\"\u001b[39m\n\u001b[0;32m    280\u001b[0m     )\n\u001b[1;32m--> 282\u001b[0m \u001b[39mreturn\u001b[39;00m io_open(file, \u001b[39m*\u001b[39margs, \u001b[39m*\u001b[39m\u001b[39m*\u001b[39mkwargs)\n",
      "\u001b[1;31mFileNotFoundError\u001b[0m: [Errno 2] No such file or directory: 'currenxies.txt'"
     ]
    }
   ],
   "source": [
    "#Trying to open a file that does not exist, such as mistyping the file name or looking in the wrong directory\n",
    "file = open(\"currenxies.txt\", \"r\")"
   ]
  },
  {
   "attachments": {},
   "cell_type": "markdown",
   "metadata": {},
   "source": [
    "*********************************************************************************************************************************"
   ]
  },
  {
   "attachments": {},
   "cell_type": "markdown",
   "metadata": {},
   "source": [
    "**10. Write a function called frequencies() that takes a string as its only parameter, and returns a list of integers, showing the number of times each character appears in the text. Your function may ignore any characters that are not in letters.**"
   ]
  },
  {
   "cell_type": "code",
   "execution_count": 1,
   "metadata": {},
   "outputs": [],
   "source": [
    "def frequencies(text):\n",
    "    letters = 'abcdefghijklmnopqrstuvwxyz'\n",
    "    frequency_list = []\n",
    "    \n",
    "    for letter in letters:\n",
    "        count = text.lower().count(letter)\n",
    "        frequency_list.append(count)\n",
    "    \n",
    "    return frequency_list"
   ]
  },
  {
   "cell_type": "code",
   "execution_count": 2,
   "metadata": {},
   "outputs": [
    {
     "data": {
      "text/plain": [
       "[0, 0, 0, 0, 6, 0, 0, 5, 0, 0, 0, 7, 0, 0, 0, 0, 0, 0, 0, 0, 0, 0, 0, 0, 0, 0]"
      ]
     },
     "execution_count": 2,
     "metadata": {},
     "output_type": "execute_result"
    }
   ],
   "source": [
    "frequencies(\"HHHHH EEEEEE LLLLLLL\")"
   ]
  }
 ],
 "metadata": {
  "kernelspec": {
   "display_name": "base",
   "language": "python",
   "name": "python3"
  },
  "language_info": {
   "codemirror_mode": {
    "name": "ipython",
    "version": 3
   },
   "file_extension": ".py",
   "mimetype": "text/x-python",
   "name": "python",
   "nbconvert_exporter": "python",
   "pygments_lexer": "ipython3",
   "version": "3.10.9"
  },
  "orig_nbformat": 4
 },
 "nbformat": 4,
 "nbformat_minor": 2
}
